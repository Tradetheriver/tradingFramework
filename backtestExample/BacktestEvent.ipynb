{
 "cells": [
  {
   "cell_type": "markdown",
   "metadata": {},
   "source": [
    "# BACKTEST EventDriven"
   ]
  },
  {
   "cell_type": "code",
   "execution_count": 332,
   "metadata": {
    "collapsed": true
   },
   "outputs": [],
   "source": [
    "%matplotlib inline  \n",
    "import pandas as pd\n",
    "import numpy as np\n",
    "import matplotlib.pyplot as plt \n",
    "from data_source.alpha_vantage_download import AlphaVantageDownload as Downloader# out custom function to download data\n",
    "import tpot # for machine learning pipeline\n",
    "import datetime\n",
    "from data_source.resolution import Resolution\n",
    "import os\n",
    "import sklearn"
   ]
  },
  {
   "cell_type": "markdown",
   "metadata": {},
   "source": [
    "### Configure Backtest"
   ]
  },
  {
   "cell_type": "code",
   "execution_count": 333,
   "metadata": {
    "collapsed": true
   },
   "outputs": [],
   "source": [
    "SYMBOL = 'BBVA.MC'\n",
    "START_BACKTEST = datetime.datetime(2017, 1, 1)\n",
    "RESOLUTION = Resolution.one_day\n",
    "CAPITAL=1000\n",
    "LOOKBACK_BARS=5\n",
    "OPEN_TO_CLOSE = False\n",
    "CHEAT_TRAIN=True"
   ]
  },
  {
   "cell_type": "markdown",
   "metadata": {},
   "source": [
    "### Download Data"
   ]
  },
  {
   "cell_type": "code",
   "execution_count": 334,
   "metadata": {
    "collapsed": false
   },
   "outputs": [],
   "source": [
    "startSTR = datetime.datetime.strftime(START_BACKTEST,'%Y%m%d')\n",
    "tempFile = '%s_%s_%s.csv'%(SYMBOL,startSTR,RESOLUTION)\n",
    "if not os.path.exists(tempFile):\n",
    "    data = Downloader().download(symbol='BBVA.MC',start=datetime.datetime(2017, 1, 1),resolution=Resolution.one_day)\n",
    "    data.to_csv(tempFile)\n",
    "else:\n",
    "    data = pd.DataFrame.from_csv(tempFile)"
   ]
  },
  {
   "cell_type": "code",
   "execution_count": 335,
   "metadata": {
    "collapsed": false
   },
   "outputs": [
    {
     "data": {
      "text/html": [
       "<div>\n",
       "<table border=\"1\" class=\"dataframe\">\n",
       "  <thead>\n",
       "    <tr style=\"text-align: right;\">\n",
       "      <th></th>\n",
       "      <th>symbol</th>\n",
       "      <th>open</th>\n",
       "      <th>high</th>\n",
       "      <th>low</th>\n",
       "      <th>close</th>\n",
       "      <th>volume</th>\n",
       "    </tr>\n",
       "    <tr>\n",
       "      <th>index</th>\n",
       "      <th></th>\n",
       "      <th></th>\n",
       "      <th></th>\n",
       "      <th></th>\n",
       "      <th></th>\n",
       "      <th></th>\n",
       "    </tr>\n",
       "  </thead>\n",
       "  <tbody>\n",
       "    <tr>\n",
       "      <th>2017-01-02</th>\n",
       "      <td>BBVA.MC</td>\n",
       "      <td>6.459</td>\n",
       "      <td>6.474</td>\n",
       "      <td>6.374</td>\n",
       "      <td>6.0952</td>\n",
       "      <td>19607737.0</td>\n",
       "    </tr>\n",
       "    <tr>\n",
       "      <th>2017-01-03</th>\n",
       "      <td>BBVA.MC</td>\n",
       "      <td>6.480</td>\n",
       "      <td>6.686</td>\n",
       "      <td>6.452</td>\n",
       "      <td>6.2135</td>\n",
       "      <td>160332414.0</td>\n",
       "    </tr>\n",
       "    <tr>\n",
       "      <th>2017-01-04</th>\n",
       "      <td>BBVA.MC</td>\n",
       "      <td>6.585</td>\n",
       "      <td>6.601</td>\n",
       "      <td>6.434</td>\n",
       "      <td>6.1472</td>\n",
       "      <td>179333129.0</td>\n",
       "    </tr>\n",
       "    <tr>\n",
       "      <th>2017-01-05</th>\n",
       "      <td>BBVA.MC</td>\n",
       "      <td>6.463</td>\n",
       "      <td>6.554</td>\n",
       "      <td>6.437</td>\n",
       "      <td>6.1690</td>\n",
       "      <td>144550880.0</td>\n",
       "    </tr>\n",
       "    <tr>\n",
       "      <th>2017-01-06</th>\n",
       "      <td>BBVA.MC</td>\n",
       "      <td>6.530</td>\n",
       "      <td>6.578</td>\n",
       "      <td>6.454</td>\n",
       "      <td>6.2144</td>\n",
       "      <td>113930823.0</td>\n",
       "    </tr>\n",
       "  </tbody>\n",
       "</table>\n",
       "</div>"
      ],
      "text/plain": [
       "             symbol   open   high    low   close       volume\n",
       "index                                                        \n",
       "2017-01-02  BBVA.MC  6.459  6.474  6.374  6.0952   19607737.0\n",
       "2017-01-03  BBVA.MC  6.480  6.686  6.452  6.2135  160332414.0\n",
       "2017-01-04  BBVA.MC  6.585  6.601  6.434  6.1472  179333129.0\n",
       "2017-01-05  BBVA.MC  6.463  6.554  6.437  6.1690  144550880.0\n",
       "2017-01-06  BBVA.MC  6.530  6.578  6.454  6.2144  113930823.0"
      ]
     },
     "execution_count": 335,
     "metadata": {},
     "output_type": "execute_result"
    }
   ],
   "source": [
    "data.head()"
   ]
  },
  {
   "cell_type": "code",
   "execution_count": 336,
   "metadata": {
    "collapsed": false
   },
   "outputs": [
    {
     "data": {
      "text/plain": [
       "<matplotlib.axes._subplots.AxesSubplot at 0x15840400>"
      ]
     },
     "execution_count": 336,
     "metadata": {},
     "output_type": "execute_result"
    },
    {
     "data": {
      "image/png": "[encoded data removed]",
      "text/plain": [
       "<matplotlib.figure.Figure at 0x16395cc0>"
      ]
     },
     "metadata": {},
     "output_type": "display_data"
    }
   ],
   "source": [
    "data['close'].plot()"
   ]
  },
  {
   "cell_type": "code",
   "execution_count": 337,
   "metadata": {
    "collapsed": false
   },
   "outputs": [
    {
     "name": "stdout",
     "output_type": "stream",
     "text": [
      "Going to buy 164 shares when predicted\n"
     ]
    }
   ],
   "source": [
    "shares = int(CAPITAL/data['close'][0])\n",
    "print('Going to buy %i shares when predicted'%shares)"
   ]
  },
  {
   "cell_type": "markdown",
   "metadata": {},
   "source": [
    "### Machine learning training"
   ]
  },
  {
   "cell_type": "code",
   "execution_count": 338,
   "metadata": {
    "collapsed": true
   },
   "outputs": [],
   "source": [
    "def getReturnOfTrade(dataframe):\n",
    "    data_position_result = dataframe.copy()\n",
    "    if OPEN_TO_CLOSE:\n",
    "        data_position_result['returns'] = (data_position_result['close']-data_position_result['open']).shift(-1)\n",
    "    else:\n",
    "        data_position_result['returns'] = (data_position_result['close'].diff()).shift(-1)\n",
    "    return pd.DataFrame(data_position_result['returns'])\n",
    "        \n",
    "\n",
    "## get input and target methods\n",
    "def getInputData(dataframe,lookback_bars=5):\n",
    "    output = pd.DataFrame(dataframe['close'])\n",
    "    for i in range(lookback_bars):\n",
    "        if i == 0:\n",
    "            output['close'] = np.log(dataframe['close'])\n",
    "            output['volume'] = dataframe['volume'].diff()\n",
    "        else:\n",
    "            output['diff_%i' % i] = dataframe['close'] - dataframe['close'].shift(i)\n",
    "\n",
    "    return output.fillna(0).as_matrix()\n",
    "\n",
    "def getTargetData(dataframe):\n",
    "    future_return = getReturnOfTrade(dataframe)   \n",
    "        \n",
    "    return (future_return > 0).fillna(0).astype(int).values.ravel()\n",
    "\n"
   ]
  },
  {
   "cell_type": "code",
   "execution_count": 339,
   "metadata": {
    "collapsed": false
   },
   "outputs": [
    {
     "name": "stdout",
     "output_type": "stream",
     "text": [
      "Tramposo!\n",
      "len train=290 len test=290\n"
     ]
    }
   ],
   "source": [
    "inputData = getInputData(data,LOOKBACK_BARS)\n",
    "targetData = getTargetData(data)\n",
    "\n",
    "\n",
    "if CHEAT_TRAIN:\n",
    "    print 'Tramposo!'\n",
    "    # haciendo trampas => train set = backtestSet\n",
    "    X_train=inputData\n",
    "    X_test =inputData\n",
    "    y_train=targetData\n",
    "    y_test = targetData\n",
    "    data_test=data\n",
    "    data_train=data\n",
    "else:\n",
    "    #sin hacer trampas => dividir set en training + backtest test\n",
    "    test_size=0.33\n",
    "    X_train, X_test, y_train, y_test = sklearn.model_selection.train_test_split(inputData, targetData, test_size=test_size, random_state=42)\n",
    "    data_train, data_test = sklearn.model_selection.train_test_split(data, test_size=test_size)\n",
    "\n",
    "print 'len train=%i len test=%i'%(len(data_train),len(data_test))"
   ]
  },
  {
   "cell_type": "code",
   "execution_count": 340,
   "metadata": {
    "collapsed": false
   },
   "outputs": [
    {
     "name": "stdout",
     "output_type": "stream",
     "text": [
      "Version 0.8.3 of tpot is outdated. Version 0.9.2 was released Wednesday January 17, 2018.\n"
     ]
    },
    {
     "name": "stderr",
     "output_type": "stream",
     "text": []
    },
    {
     "name": "stdout",
     "output_type": "stream",
     "text": [
      "Generation 1 - Current best internal CV score: 0.576167625376\n"
     ]
    },
    {
     "name": "stderr",
     "output_type": "stream",
     "text": []
    },
    {
     "name": "stdout",
     "output_type": "stream",
     "text": [
      "Generation 2 - Current best internal CV score: 0.576167625376\n"
     ]
    },
    {
     "name": "stderr",
     "output_type": "stream",
     "text": []
    },
    {
     "name": "stdout",
     "output_type": "stream",
     "text": [
      "Generation 3 - Current best internal CV score: 0.576167625376\n"
     ]
    },
    {
     "name": "stderr",
     "output_type": "stream",
     "text": []
    },
    {
     "name": "stdout",
     "output_type": "stream",
     "text": [
      "Generation 4 - Current best internal CV score: 0.576167625376\n"
     ]
    },
    {
     "name": "stderr",
     "output_type": "stream",
     "text": []
    },
    {
     "name": "stdout",
     "output_type": "stream",
     "text": [
      "Generation 5 - Current best internal CV score: 0.576167625376\n"
     ]
    },
    {
     "name": "stderr",
     "output_type": "stream",
     "text": []
    },
    {
     "name": "stdout",
     "output_type": "stream",
     "text": [
      "\n",
      "Best pipeline: ExtraTreesClassifier(input_matrix, ExtraTreesClassifier__bootstrap=False, ExtraTreesClassifier__criterion=gini, ExtraTreesClassifier__max_features=0.8, ExtraTreesClassifier__min_samples_leaf=1, ExtraTreesClassifier__min_samples_split=20, ExtraTreesClassifier__n_estimators=DEFAULT)\n",
      "TrainScore: 0.913793\n",
      "TestScore: 0.913793 \n"
     ]
    }
   ],
   "source": [
    "#Using TPOT https://github.com/EpistasisLab/tpot\n",
    "# TPOT is a Python Automated Machine Learning tool that optimizes machine learning pipelines using genetic programming.\n",
    "from tpot import TPOTClassifier\n",
    "mlObject = TPOTClassifier(generations=5,population_size=50,verbosity=2,n_jobs=1)\n",
    "mlObject.fit(X_train,y_train)\n",
    "\n",
    "print('TrainScore: %f'%mlObject.score(X_train, y_train))\n",
    "print('TestScore: %f '%mlObject.score(X_test, y_test))\n"
   ]
  },
  {
   "cell_type": "code",
   "execution_count": 341,
   "metadata": {
    "collapsed": false
   },
   "outputs": [],
   "source": [
    "def backtest_eventDriven(data,shares,lookback_bars=5):\n",
    "    import time\n",
    "    start_time = time.clock()\n",
    "    #Iterates each day of data\n",
    "    output = data.copy()\n",
    "    output['prediction']=0\n",
    "    output['position']=0\n",
    "    last_position = 0\n",
    "    for index, row in data.iterrows():            \n",
    "        dataToday = pd.DataFrame(data[:index])\n",
    "        if len(dataToday)<lookback_bars:\n",
    "            continue\n",
    "        inputData = getInputData(dataToday)        \n",
    "        prediction = mlObject.predict(inputData)\n",
    "        last_prediction = prediction[-1]\n",
    "        output['prediction'][index]= last_prediction\n",
    "        output['position'][index]= last_prediction*shares\n",
    "        if last_prediction==1 and last_position==0:\n",
    "#             print 'BUY at %s'%index\n",
    "            last_position=1\n",
    "            open_previously=True\n",
    "            ## sendOrder()\n",
    "            \n",
    "        elif last_prediction==0 and last_position==1:\n",
    "#             print 'close BUY at %s'%index\n",
    "            last_position=0\n",
    "            ## closeTrade()\n",
    "        \n",
    "#         else:\n",
    "#             print 'dont do nothing at %s'%index\n",
    "            \n",
    "    \n",
    "    \n",
    "    end_time = time.clock()\n",
    "    print('backtest_eventDriven took %i seconds'%(end_time-start_time))\n",
    "    return output"
   ]
  },
  {
   "cell_type": "code",
   "execution_count": 342,
   "metadata": {
    "collapsed": false
   },
   "outputs": [],
   "source": [
    "def backtest_vectorized(data,shares,lookback_bars=5):\n",
    "    import time\n",
    "    start_time = time.clock()\n",
    "    #vectorized\n",
    "    output = data.copy()\n",
    "    output['prediction']=0\n",
    "    output['position']=0\n",
    "    last_position = 0    \n",
    "    inputData = getInputData(data)  \n",
    "    prediction = mlObject.predict(inputData)\n",
    "    output['prediction'] = prediction\n",
    "    output['prediction'][:lookback_bars-1]=0\n",
    "    output['position'] =  output['prediction']*shares\n",
    "    end_time = time.clock()\n",
    "    print('backtest_vectorized took %i seconds'%(end_time-start_time))\n",
    "    return output"
   ]
  },
  {
   "cell_type": "code",
   "execution_count": 343,
   "metadata": {
    "collapsed": true
   },
   "outputs": [],
   "source": [
    "def getBacktestResults(data_position,shares):\n",
    "    data_position_result = data_position.copy()\n",
    "    data_position_result['returns']  = getReturnOfTrade(data_position)\n",
    "\n",
    "    data_position_result['buy_and_hold'] = (data_position_result['close'].diff()*shares).cumsum()\n",
    "    data_position_result['pnl'] = data_position_result['returns']*data_position_result['position']\n",
    "    data_position_result['equity']=data_position_result['pnl'].cumsum()\n",
    "    data_position_result['equity'].fillna(method='ffill',inplace=True)\n",
    "    return data_position_result"
   ]
  },
  {
   "cell_type": "markdown",
   "metadata": {},
   "source": [
    "### Event Driven Backtest"
   ]
  },
  {
   "cell_type": "code",
   "execution_count": 344,
   "metadata": {
    "collapsed": false
   },
   "outputs": [
    {
     "name": "stdout",
     "output_type": "stream",
     "text": [
      "backtest_eventDriven took 63 seconds\n"
     ]
    }
   ],
   "source": [
    "data_position_ed = backtest_eventDriven(data_test,shares=shares,lookback_bars=LOOKBACK_BARS)\n",
    "\n",
    "# data_position_ed.head(15)"
   ]
  },
  {
   "cell_type": "code",
   "execution_count": 345,
   "metadata": {
    "collapsed": false
   },
   "outputs": [
    {
     "data": {
      "text/plain": [
       "<matplotlib.axes._subplots.AxesSubplot at 0x160ed128>"
      ]
     },
     "execution_count": 345,
     "metadata": {},
     "output_type": "execute_result"
    },
    {
     "data": {
      "image/png": "[encoded data removed]",
      "text/plain": [
       "<matplotlib.figure.Figure at 0x16388e48>"
      ]
     },
     "metadata": {},
     "output_type": "display_data"
    }
   ],
   "source": [
    "data_backtest_ed = getBacktestResults(data_position_ed,shares=shares)\n",
    "\n",
    "data_backtest_ed[['equity','buy_and_hold']].plot()"
   ]
  },
  {
   "cell_type": "code",
   "execution_count": 346,
   "metadata": {
    "collapsed": false
   },
   "outputs": [],
   "source": [
    "# data_backtest_ed.head(10)"
   ]
  },
  {
   "cell_type": "code",
   "execution_count": 347,
   "metadata": {
    "collapsed": false
   },
   "outputs": [
    {
     "name": "stdout",
     "output_type": "stream",
     "text": [
      "Final Equity at 2018-02-16 00:00:00 is 1428.801  => 142.880 percent in backtest\n"
     ]
    }
   ],
   "source": [
    "print 'Final Equity at %s is %.3f  => %.3f percent in backtest'%(data_backtest_ed.index[-2],data_backtest_ed['equity'][-1],(data_backtest_ed['equity'][-1]/CAPITAL)*100 )"
   ]
  },
  {
   "cell_type": "markdown",
   "metadata": {},
   "source": [
    "### Vectorized Backtest"
   ]
  },
  {
   "cell_type": "code",
   "execution_count": 348,
   "metadata": {
    "collapsed": false
   },
   "outputs": [
    {
     "name": "stdout",
     "output_type": "stream",
     "text": [
      "backtest_vectorized took 0 seconds\n"
     ]
    }
   ],
   "source": [
    "data_position_vector = backtest_vectorized(data_test,shares=shares,lookback_bars=LOOKBACK_BARS)\n",
    "# data_position_vector.head(5)"
   ]
  },
  {
   "cell_type": "code",
   "execution_count": 349,
   "metadata": {
    "collapsed": false
   },
   "outputs": [
    {
     "data": {
      "text/plain": [
       "<matplotlib.axes._subplots.AxesSubplot at 0x169c1a90>"
      ]
     },
     "execution_count": 349,
     "metadata": {},
     "output_type": "execute_result"
    },
    {
     "data": {
      "image/png": "[encoded data removed]",
      "text/plain": [
       "<matplotlib.figure.Figure at 0x16965978>"
      ]
     },
     "metadata": {},
     "output_type": "display_data"
    }
   ],
   "source": [
    "data_backtest_vectorized = getBacktestResults(data_position_vector,shares=shares)\n",
    "\n",
    "data_backtest_vectorized[['equity','buy_and_hold']].plot()"
   ]
  },
  {
   "cell_type": "code",
   "execution_count": 350,
   "metadata": {
    "collapsed": false
   },
   "outputs": [],
   "source": [
    "# data_backtest_vectorized.head(10)"
   ]
  },
  {
   "cell_type": "code",
   "execution_count": 351,
   "metadata": {
    "collapsed": false
   },
   "outputs": [
    {
     "name": "stdout",
     "output_type": "stream",
     "text": [
      "Final Equity at 2018-02-16 00:00:00 is 1428.801  => 142.880 percent in backtest\n"
     ]
    }
   ],
   "source": [
    "print 'Final Equity at %s is %.3f  => %.3f percent in backtest'%(data_backtest_vectorized.index[-2],data_backtest_vectorized['equity'][-1],(data_backtest_vectorized['equity'][-1]/CAPITAL)*100 )"
   ]
  },
  {
   "cell_type": "code",
   "execution_count": null,
   "metadata": {
    "collapsed": true
   },
   "outputs": [],
   "source": [
    "\n"
   ]
  }
 ],
 "metadata": {
  "anaconda-cloud": {},
  "kernelspec": {
   "display_name": "Python [default]",
   "language": "python",
   "name": "python2"
  },
  "language_info": {
   "codemirror_mode": {
    "name": "ipython",
    "version": 2
   },
   "file_extension": ".py",
   "mimetype": "text/x-python",
   "name": "python",
   "nbconvert_exporter": "python",
   "pygments_lexer": "ipython2",
   "version": "2.7.12"
  }
 },
 "nbformat": 4,
 "nbformat_minor": 0
}
