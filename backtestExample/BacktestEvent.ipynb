{
 "cells": [
  {
   "cell_type": "markdown",
   "metadata": {},
   "source": [
    "# BACKTEST EventDriven"
   ]
  },
  {
   "cell_type": "code",
   "execution_count": 4,
   "metadata": {
    "collapsed": true
   },
   "outputs": [],
   "source": [
    "%matplotlib inline  \n",
    "import pandas as pd\n",
    "import numpy as np\n",
    "import matplotlib.pyplot as plt \n",
    "from data_source.alpha_vantage_download import AlphaVantageDownload as Downloader# out custom function to download data\n",
    "import tpot # for machine learning pipeline\n",
    "import datetime\n",
    "from data_source.resolution import Resolution\n",
    "import os"
   ]
  },
  {
   "cell_type": "markdown",
   "metadata": {},
   "source": [
    "### Configure Backtest"
   ]
  },
  {
   "cell_type": "code",
   "execution_count": 123,
   "metadata": {
    "collapsed": true
   },
   "outputs": [],
   "source": [
    "SYMBOL = 'BBVA.MC'\n",
    "START_BACKTEST = datetime.datetime(2017, 1, 1)\n",
    "RESOLUTION = Resolution.one_day\n",
    "LOOKBACK_BARS=5\n",
    "OPEN_TO_CLOSE = True"
   ]
  },
  {
   "cell_type": "markdown",
   "metadata": {},
   "source": [
    "### Download Data"
   ]
  },
  {
   "cell_type": "code",
   "execution_count": 5,
   "metadata": {
    "collapsed": false
   },
   "outputs": [
    {
     "name": "stderr",
     "output_type": "stream",
     "text": [
      "data_source\\alpha_vantage_download.py:49: SettingWithCopyWarning: \n",
      "A value is trying to be set on a copy of a slice from a DataFrame.\n",
      "Try using .loc[row_indexer,col_indexer] = value instead\n",
      "\n",
      "See the caveats in the documentation: http://pandas.pydata.org/pandas-docs/stable/indexing.html#indexing-view-versus-copy\n",
      "  output['symbol'] = symbol\n"
     ]
    }
   ],
   "source": [
    "startSTR = datetime.datetime.strftime(START_BACKTEST,'%Y%m%d')\n",
    "tempFile = '%s_%s_%s.csv'%(SYMBOL,startSTR,RESOLUTION)\n",
    "if not os.path.exists(tempFile):\n",
    "    data = Downloader().download(symbol='BBVA.MC',start=datetime.datetime(2017, 1, 1),resolution=Resolution.one_day)\n",
    "    data.to_csv(tempFile)\n",
    "else:\n",
    "    data = pd.DataFrame.from_csv(tempFile)"
   ]
  },
  {
   "cell_type": "code",
   "execution_count": 6,
   "metadata": {
    "collapsed": false
   },
   "outputs": [
    {
     "data": {
      "text/html": [
       "<div>\n",
       "<table border=\"1\" class=\"dataframe\">\n",
       "  <thead>\n",
       "    <tr style=\"text-align: right;\">\n",
       "      <th></th>\n",
       "      <th>symbol</th>\n",
       "      <th>open</th>\n",
       "      <th>high</th>\n",
       "      <th>low</th>\n",
       "      <th>close</th>\n",
       "      <th>volume</th>\n",
       "    </tr>\n",
       "    <tr>\n",
       "      <th>index</th>\n",
       "      <th></th>\n",
       "      <th></th>\n",
       "      <th></th>\n",
       "      <th></th>\n",
       "      <th></th>\n",
       "      <th></th>\n",
       "    </tr>\n",
       "  </thead>\n",
       "  <tbody>\n",
       "    <tr>\n",
       "      <th>2017-01-02</th>\n",
       "      <td>BBVA.MC</td>\n",
       "      <td>6.459</td>\n",
       "      <td>6.474</td>\n",
       "      <td>6.374</td>\n",
       "      <td>6.0952</td>\n",
       "      <td>19607737.0</td>\n",
       "    </tr>\n",
       "    <tr>\n",
       "      <th>2017-01-03</th>\n",
       "      <td>BBVA.MC</td>\n",
       "      <td>6.480</td>\n",
       "      <td>6.686</td>\n",
       "      <td>6.452</td>\n",
       "      <td>6.2135</td>\n",
       "      <td>160332414.0</td>\n",
       "    </tr>\n",
       "    <tr>\n",
       "      <th>2017-01-04</th>\n",
       "      <td>BBVA.MC</td>\n",
       "      <td>6.585</td>\n",
       "      <td>6.601</td>\n",
       "      <td>6.434</td>\n",
       "      <td>6.1472</td>\n",
       "      <td>179333129.0</td>\n",
       "    </tr>\n",
       "    <tr>\n",
       "      <th>2017-01-05</th>\n",
       "      <td>BBVA.MC</td>\n",
       "      <td>6.463</td>\n",
       "      <td>6.554</td>\n",
       "      <td>6.437</td>\n",
       "      <td>6.1690</td>\n",
       "      <td>144550880.0</td>\n",
       "    </tr>\n",
       "    <tr>\n",
       "      <th>2017-01-06</th>\n",
       "      <td>BBVA.MC</td>\n",
       "      <td>6.530</td>\n",
       "      <td>6.578</td>\n",
       "      <td>6.454</td>\n",
       "      <td>6.2144</td>\n",
       "      <td>113930823.0</td>\n",
       "    </tr>\n",
       "  </tbody>\n",
       "</table>\n",
       "</div>"
      ],
      "text/plain": [
       "             symbol   open   high    low   close       volume\n",
       "index                                                        \n",
       "2017-01-02  BBVA.MC  6.459  6.474  6.374  6.0952   19607737.0\n",
       "2017-01-03  BBVA.MC  6.480  6.686  6.452  6.2135  160332414.0\n",
       "2017-01-04  BBVA.MC  6.585  6.601  6.434  6.1472  179333129.0\n",
       "2017-01-05  BBVA.MC  6.463  6.554  6.437  6.1690  144550880.0\n",
       "2017-01-06  BBVA.MC  6.530  6.578  6.454  6.2144  113930823.0"
      ]
     },
     "execution_count": 6,
     "metadata": {},
     "output_type": "execute_result"
    }
   ],
   "source": [
    "data.head()"
   ]
  },
  {
   "cell_type": "code",
   "execution_count": 7,
   "metadata": {
    "collapsed": false
   },
   "outputs": [
    {
     "data": {
      "text/plain": [
       "<matplotlib.axes._subplots.AxesSubplot at 0xcce62e8>"
      ]
     },
     "execution_count": 7,
     "metadata": {},
     "output_type": "execute_result"
    },
    {
     "data": {
      "image/png": "[encoded data removed]",
      "text/plain": [
       "<matplotlib.figure.Figure at 0xc70c320>"
      ]
     },
     "metadata": {},
     "output_type": "display_data"
    }
   ],
   "source": [
    "data['close'].plot()"
   ]
  },
  {
   "cell_type": "markdown",
   "metadata": {},
   "source": [
    "### Machine learning training"
   ]
  },
  {
   "cell_type": "code",
   "execution_count": 124,
   "metadata": {
    "collapsed": true
   },
   "outputs": [],
   "source": [
    "## get input and target methods\n",
    "def getInputData(dataframe,lookback_bars=5):\n",
    "    output = pd.DataFrame(dataframe['close'])\n",
    "    for i in range(lookback_bars):\n",
    "        if i == 0:\n",
    "            output['close'] = np.log(dataframe['close'])\n",
    "            output['volume'] = dataframe['volume'].diff()\n",
    "        else:\n",
    "            output['diff_%i' % i] = dataframe['close'] - dataframe['close'].shift(i)\n",
    "\n",
    "    return output.fillna(0).as_matrix()\n",
    "\n",
    "def getTargetData(dataframe):\n",
    "    future_return = pd.DataFrame(dataframe['close'])\n",
    "    if OPEN_TO_CLOSE:\n",
    "        future_return = (dataframe['close']-dataframe['open']).shift(-1)\n",
    "    else:\n",
    "        future_return = future_return.diff().shift(-2)#will buy next close => predict next two\n",
    "        \n",
    "    return (future_return > 0).fillna(0).astype(int).values.ravel()\n",
    "\n"
   ]
  },
  {
   "cell_type": "code",
   "execution_count": 125,
   "metadata": {
    "collapsed": false
   },
   "outputs": [],
   "source": [
    "inputData = getInputData(data,LOOKBACK_BARS)\n",
    "targetData = getTargetData(data)\n",
    "\n",
    "# haciendo trampas => train set = backtestSet\n",
    "X_train=inputData\n",
    "X_test =inputData\n",
    "y_train=targetData\n",
    "y_test = targetData\n",
    "\n",
    "\n",
    "#sin hacer trampas => dividir set en training + backtest test\n",
    "#X_train, X_test, y_train, y_test = train_test_split(inputData, targetData, test_size=0.33, random_state=42)\n",
    "# data=data[X_test.index:]"
   ]
  },
  {
   "cell_type": "code",
   "execution_count": 126,
   "metadata": {
    "collapsed": false
   },
   "outputs": [
    {
     "name": "stdout",
     "output_type": "stream",
     "text": [
      "Version 0.8.3 of tpot is outdated. Version 0.9.2 was released Wednesday January 17, 2018.\n"
     ]
    },
    {
     "name": "stderr",
     "output_type": "stream",
     "text": []
    },
    {
     "name": "stdout",
     "output_type": "stream",
     "text": [
      "Generation 1 - Current best internal CV score: 0.789689009197\n"
     ]
    },
    {
     "name": "stderr",
     "output_type": "stream",
     "text": []
    },
    {
     "name": "stdout",
     "output_type": "stream",
     "text": [
      "Generation 2 - Current best internal CV score: 0.789689009197\n"
     ]
    },
    {
     "name": "stderr",
     "output_type": "stream",
     "text": []
    },
    {
     "name": "stdout",
     "output_type": "stream",
     "text": [
      "Generation 3 - Current best internal CV score: 0.789689009197\n"
     ]
    },
    {
     "name": "stderr",
     "output_type": "stream",
     "text": []
    },
    {
     "name": "stdout",
     "output_type": "stream",
     "text": [
      "Generation 4 - Current best internal CV score: 0.789689009197\n"
     ]
    },
    {
     "name": "stderr",
     "output_type": "stream",
     "text": []
    },
    {
     "name": "stdout",
     "output_type": "stream",
     "text": [
      "Generation 5 - Current best internal CV score: 0.789689009197\n"
     ]
    },
    {
     "name": "stderr",
     "output_type": "stream",
     "text": []
    },
    {
     "name": "stdout",
     "output_type": "stream",
     "text": [
      "\n",
      "Best pipeline: LinearSVC(input_matrix, LinearSVC__C=0.01, LinearSVC__dual=False, LinearSVC__loss=DEFAULT, LinearSVC__penalty=l1, LinearSVC__tol=0.01)\n",
      "TrainScore: 0.789655\n",
      "TestScore: 0.789655 \n"
     ]
    }
   ],
   "source": [
    "#Using TPOT https://github.com/EpistasisLab/tpot\n",
    "# TPOT is a Python Automated Machine Learning tool that optimizes machine learning pipelines using genetic programming.\n",
    "from tpot import TPOTClassifier\n",
    "mlObject = TPOTClassifier(generations=5,population_size=50,verbosity=2,n_jobs=1)\n",
    "mlObject.fit(X_train,y_train)\n",
    "\n",
    "print('TrainScore: %f'%mlObject.score(X_train, y_train))\n",
    "print('TestScore: %f '%mlObject.score(X_test, y_test))\n"
   ]
  },
  {
   "cell_type": "code",
   "execution_count": 127,
   "metadata": {
    "collapsed": false
   },
   "outputs": [],
   "source": [
    "def backtest_eventDriven(data,lookback_bars=5):\n",
    "    import time\n",
    "    start_time = time.clock()\n",
    "    #Iterates each day of data\n",
    "    output = data.copy()\n",
    "    output['prediction']=0\n",
    "    output['position']=0\n",
    "    last_position = 0\n",
    "    for index, row in data.iterrows():            \n",
    "        dataToday = pd.DataFrame(data[:index])\n",
    "        if len(dataToday)<lookback_bars:\n",
    "            continue\n",
    "        inputData = getInputData(dataToday)        \n",
    "        prediction = mlObject.predict(inputData)\n",
    "        last_prediction = prediction[-1]\n",
    "        output['prediction'][index]= last_prediction\n",
    "        output['position'][index]= last_prediction\n",
    "        if last_prediction==1 and last_position==0:\n",
    "#             print 'BUY at %s'%index\n",
    "            last_position=1\n",
    "            open_previously=True\n",
    "            ## sendOrder()\n",
    "            \n",
    "        elif last_prediction==0 and last_position==1:\n",
    "#             print 'close BUY at %s'%index\n",
    "            last_position=0\n",
    "            ## closeTrade()\n",
    "        \n",
    "#         else:\n",
    "#             print 'dont do nothing at %s'%index\n",
    "            \n",
    "    \n",
    "    \n",
    "    end_time = time.clock()\n",
    "    print('backtest_eventDriven took %i seconds'%(end_time-start_time))\n",
    "    return output"
   ]
  },
  {
   "cell_type": "code",
   "execution_count": 128,
   "metadata": {
    "collapsed": false
   },
   "outputs": [],
   "source": [
    "def backtest_vectorized(data,lookback_bars=5):\n",
    "    import time\n",
    "    start_time = time.clock()\n",
    "    #vectorized\n",
    "    output = data.copy()\n",
    "    output['prediction']=0\n",
    "    output['position']=0\n",
    "    last_position = 0    \n",
    "    inputData = getInputData(data)  \n",
    "    prediction = mlObject.predict(inputData)\n",
    "    output['prediction'] = prediction\n",
    "    output['prediction'][:lookback_bars-1]=0\n",
    "    output['position'] =  output['prediction']\n",
    "    end_time = time.clock()\n",
    "    print('backtest_eventDriven took %i seconds'%(end_time-start_time))\n",
    "    return output"
   ]
  },
  {
   "cell_type": "code",
   "execution_count": 129,
   "metadata": {
    "collapsed": true
   },
   "outputs": [],
   "source": [
    "def getBacktestResults(data_position):\n",
    "    data_position_result = data_position.copy()\n",
    "    if OPEN_TO_CLOSE:\n",
    "        data_position_result['returns'] = (data_position['close']-data_position['open']).shift(-1)\n",
    "    else:\n",
    "        data_position_result['returns'] = (data_position['close'].diff()).shift(-2)\n",
    "        \n",
    "    data_position_result['buy_and_hold'] = data_position_result['close'].diff().cumsum()\n",
    "    data_position_result['pnl'] = data_position_result['returns']*data_position_result['position']\n",
    "    data_position_result['equity']=data_position_result['pnl'].cumsum()\n",
    "    return data_position_result"
   ]
  },
  {
   "cell_type": "markdown",
   "metadata": {},
   "source": [
    "### Event Driven Backtest"
   ]
  },
  {
   "cell_type": "code",
   "execution_count": null,
   "metadata": {
    "collapsed": false
   },
   "outputs": [
    {
     "name": "stderr",
     "output_type": "stream",
     "text": [
      "C:\\Users\\XE61374\\AppData\\Local\\Continuum\\Anaconda2\\lib\\site-packages\\ipykernel\\__main__.py:16: SettingWithCopyWarning: \n",
      "A value is trying to be set on a copy of a slice from a DataFrame\n",
      "\n",
      "See the caveats in the documentation: http://pandas.pydata.org/pandas-docs/stable/indexing.html#indexing-view-versus-copy\n",
      "C:\\Users\\XE61374\\AppData\\Local\\Continuum\\Anaconda2\\lib\\site-packages\\ipykernel\\__main__.py:17: SettingWithCopyWarning: \n",
      "A value is trying to be set on a copy of a slice from a DataFrame\n",
      "\n",
      "See the caveats in the documentation: http://pandas.pydata.org/pandas-docs/stable/indexing.html#indexing-view-versus-copy\n"
     ]
    }
   ],
   "source": [
    "data_position_ed = backtest_eventDriven(data,lookback_bars=LOOKBACK_BARS)\n",
    "\n",
    "data_position_ed.head(15)"
   ]
  },
  {
   "cell_type": "code",
   "execution_count": null,
   "metadata": {
    "collapsed": false
   },
   "outputs": [],
   "source": [
    "data_backtest_ed = getBacktestResults(data_position_ed)\n",
    "\n",
    "data_backtest_ed[['equity','buy_and_hold']].plot()"
   ]
  },
  {
   "cell_type": "code",
   "execution_count": null,
   "metadata": {
    "collapsed": false
   },
   "outputs": [],
   "source": [
    "print 'Final Equity at %s is %.3f'%(data_backtest_vectorized.index[-2],data_backtest_vectorized['equity'][-2])"
   ]
  },
  {
   "cell_type": "markdown",
   "metadata": {},
   "source": [
    "### Vectorized Backtest"
   ]
  },
  {
   "cell_type": "code",
   "execution_count": 101,
   "metadata": {
    "collapsed": false
   },
   "outputs": [
    {
     "name": "stderr",
     "output_type": "stream",
     "text": [
      "C:\\Users\\XE61374\\AppData\\Local\\Continuum\\Anaconda2\\lib\\site-packages\\ipykernel\\__main__.py:12: SettingWithCopyWarning: \n",
      "A value is trying to be set on a copy of a slice from a DataFrame\n",
      "\n",
      "See the caveats in the documentation: http://pandas.pydata.org/pandas-docs/stable/indexing.html#indexing-view-versus-copy\n"
     ]
    },
    {
     "name": "stdout",
     "output_type": "stream",
     "text": [
      "backtest_eventDriven took 0 seconds\n"
     ]
    },
    {
     "data": {
      "text/html": [
       "<div>\n",
       "<table border=\"1\" class=\"dataframe\">\n",
       "  <thead>\n",
       "    <tr style=\"text-align: right;\">\n",
       "      <th></th>\n",
       "      <th>symbol</th>\n",
       "      <th>open</th>\n",
       "      <th>high</th>\n",
       "      <th>low</th>\n",
       "      <th>close</th>\n",
       "      <th>volume</th>\n",
       "      <th>prediction</th>\n",
       "      <th>position</th>\n",
       "    </tr>\n",
       "    <tr>\n",
       "      <th>index</th>\n",
       "      <th></th>\n",
       "      <th></th>\n",
       "      <th></th>\n",
       "      <th></th>\n",
       "      <th></th>\n",
       "      <th></th>\n",
       "      <th></th>\n",
       "      <th></th>\n",
       "    </tr>\n",
       "  </thead>\n",
       "  <tbody>\n",
       "    <tr>\n",
       "      <th>2017-01-02</th>\n",
       "      <td>BBVA.MC</td>\n",
       "      <td>6.459</td>\n",
       "      <td>6.474</td>\n",
       "      <td>6.374</td>\n",
       "      <td>6.0952</td>\n",
       "      <td>19607737.0</td>\n",
       "      <td>0</td>\n",
       "      <td>0</td>\n",
       "    </tr>\n",
       "    <tr>\n",
       "      <th>2017-01-03</th>\n",
       "      <td>BBVA.MC</td>\n",
       "      <td>6.480</td>\n",
       "      <td>6.686</td>\n",
       "      <td>6.452</td>\n",
       "      <td>6.2135</td>\n",
       "      <td>160332414.0</td>\n",
       "      <td>0</td>\n",
       "      <td>0</td>\n",
       "    </tr>\n",
       "    <tr>\n",
       "      <th>2017-01-04</th>\n",
       "      <td>BBVA.MC</td>\n",
       "      <td>6.585</td>\n",
       "      <td>6.601</td>\n",
       "      <td>6.434</td>\n",
       "      <td>6.1472</td>\n",
       "      <td>179333129.0</td>\n",
       "      <td>0</td>\n",
       "      <td>0</td>\n",
       "    </tr>\n",
       "    <tr>\n",
       "      <th>2017-01-05</th>\n",
       "      <td>BBVA.MC</td>\n",
       "      <td>6.463</td>\n",
       "      <td>6.554</td>\n",
       "      <td>6.437</td>\n",
       "      <td>6.1690</td>\n",
       "      <td>144550880.0</td>\n",
       "      <td>0</td>\n",
       "      <td>0</td>\n",
       "    </tr>\n",
       "    <tr>\n",
       "      <th>2017-01-06</th>\n",
       "      <td>BBVA.MC</td>\n",
       "      <td>6.530</td>\n",
       "      <td>6.578</td>\n",
       "      <td>6.454</td>\n",
       "      <td>6.2144</td>\n",
       "      <td>113930823.0</td>\n",
       "      <td>1</td>\n",
       "      <td>1</td>\n",
       "    </tr>\n",
       "    <tr>\n",
       "      <th>2017-01-09</th>\n",
       "      <td>BBVA.MC</td>\n",
       "      <td>6.585</td>\n",
       "      <td>6.589</td>\n",
       "      <td>6.470</td>\n",
       "      <td>6.2633</td>\n",
       "      <td>33421900.0</td>\n",
       "      <td>0</td>\n",
       "      <td>0</td>\n",
       "    </tr>\n",
       "    <tr>\n",
       "      <th>2017-01-10</th>\n",
       "      <td>BBVA.MC</td>\n",
       "      <td>6.464</td>\n",
       "      <td>6.464</td>\n",
       "      <td>6.344</td>\n",
       "      <td>6.1663</td>\n",
       "      <td>98132610.0</td>\n",
       "      <td>1</td>\n",
       "      <td>1</td>\n",
       "    </tr>\n",
       "    <tr>\n",
       "      <th>2017-01-11</th>\n",
       "      <td>BBVA.MC</td>\n",
       "      <td>6.330</td>\n",
       "      <td>6.330</td>\n",
       "      <td>6.121</td>\n",
       "      <td>5.9645</td>\n",
       "      <td>96047571.0</td>\n",
       "      <td>0</td>\n",
       "      <td>0</td>\n",
       "    </tr>\n",
       "    <tr>\n",
       "      <th>2017-01-12</th>\n",
       "      <td>BBVA.MC</td>\n",
       "      <td>6.100</td>\n",
       "      <td>6.218</td>\n",
       "      <td>6.035</td>\n",
       "      <td>5.9345</td>\n",
       "      <td>31491231.0</td>\n",
       "      <td>1</td>\n",
       "      <td>1</td>\n",
       "    </tr>\n",
       "    <tr>\n",
       "      <th>2017-01-13</th>\n",
       "      <td>BBVA.MC</td>\n",
       "      <td>6.160</td>\n",
       "      <td>6.303</td>\n",
       "      <td>6.138</td>\n",
       "      <td>6.0489</td>\n",
       "      <td>86007013.0</td>\n",
       "      <td>0</td>\n",
       "      <td>0</td>\n",
       "    </tr>\n",
       "    <tr>\n",
       "      <th>2017-01-16</th>\n",
       "      <td>BBVA.MC</td>\n",
       "      <td>6.165</td>\n",
       "      <td>6.179</td>\n",
       "      <td>6.111</td>\n",
       "      <td>5.9558</td>\n",
       "      <td>51069191.0</td>\n",
       "      <td>0</td>\n",
       "      <td>0</td>\n",
       "    </tr>\n",
       "    <tr>\n",
       "      <th>2017-01-17</th>\n",
       "      <td>BBVA.MC</td>\n",
       "      <td>6.120</td>\n",
       "      <td>6.178</td>\n",
       "      <td>6.091</td>\n",
       "      <td>5.9451</td>\n",
       "      <td>160809033.0</td>\n",
       "      <td>1</td>\n",
       "      <td>1</td>\n",
       "    </tr>\n",
       "    <tr>\n",
       "      <th>2017-01-18</th>\n",
       "      <td>BBVA.MC</td>\n",
       "      <td>6.160</td>\n",
       "      <td>6.175</td>\n",
       "      <td>6.093</td>\n",
       "      <td>5.9529</td>\n",
       "      <td>108035084.0</td>\n",
       "      <td>0</td>\n",
       "      <td>0</td>\n",
       "    </tr>\n",
       "    <tr>\n",
       "      <th>2017-01-19</th>\n",
       "      <td>BBVA.MC</td>\n",
       "      <td>6.166</td>\n",
       "      <td>6.189</td>\n",
       "      <td>6.088</td>\n",
       "      <td>5.9335</td>\n",
       "      <td>85487738.0</td>\n",
       "      <td>1</td>\n",
       "      <td>1</td>\n",
       "    </tr>\n",
       "    <tr>\n",
       "      <th>2017-01-20</th>\n",
       "      <td>BBVA.MC</td>\n",
       "      <td>6.138</td>\n",
       "      <td>6.185</td>\n",
       "      <td>6.100</td>\n",
       "      <td>5.9384</td>\n",
       "      <td>36164836.0</td>\n",
       "      <td>0</td>\n",
       "      <td>0</td>\n",
       "    </tr>\n",
       "  </tbody>\n",
       "</table>\n",
       "</div>"
      ],
      "text/plain": [
       "             symbol   open   high    low   close       volume  prediction  \\\n",
       "index                                                                       \n",
       "2017-01-02  BBVA.MC  6.459  6.474  6.374  6.0952   19607737.0           0   \n",
       "2017-01-03  BBVA.MC  6.480  6.686  6.452  6.2135  160332414.0           0   \n",
       "2017-01-04  BBVA.MC  6.585  6.601  6.434  6.1472  179333129.0           0   \n",
       "2017-01-05  BBVA.MC  6.463  6.554  6.437  6.1690  144550880.0           0   \n",
       "2017-01-06  BBVA.MC  6.530  6.578  6.454  6.2144  113930823.0           1   \n",
       "2017-01-09  BBVA.MC  6.585  6.589  6.470  6.2633   33421900.0           0   \n",
       "2017-01-10  BBVA.MC  6.464  6.464  6.344  6.1663   98132610.0           1   \n",
       "2017-01-11  BBVA.MC  6.330  6.330  6.121  5.9645   96047571.0           0   \n",
       "2017-01-12  BBVA.MC  6.100  6.218  6.035  5.9345   31491231.0           1   \n",
       "2017-01-13  BBVA.MC  6.160  6.303  6.138  6.0489   86007013.0           0   \n",
       "2017-01-16  BBVA.MC  6.165  6.179  6.111  5.9558   51069191.0           0   \n",
       "2017-01-17  BBVA.MC  6.120  6.178  6.091  5.9451  160809033.0           1   \n",
       "2017-01-18  BBVA.MC  6.160  6.175  6.093  5.9529  108035084.0           0   \n",
       "2017-01-19  BBVA.MC  6.166  6.189  6.088  5.9335   85487738.0           1   \n",
       "2017-01-20  BBVA.MC  6.138  6.185  6.100  5.9384   36164836.0           0   \n",
       "\n",
       "            position  \n",
       "index                 \n",
       "2017-01-02         0  \n",
       "2017-01-03         0  \n",
       "2017-01-04         0  \n",
       "2017-01-05         0  \n",
       "2017-01-06         1  \n",
       "2017-01-09         0  \n",
       "2017-01-10         1  \n",
       "2017-01-11         0  \n",
       "2017-01-12         1  \n",
       "2017-01-13         0  \n",
       "2017-01-16         0  \n",
       "2017-01-17         1  \n",
       "2017-01-18         0  \n",
       "2017-01-19         1  \n",
       "2017-01-20         0  "
      ]
     },
     "execution_count": 101,
     "metadata": {},
     "output_type": "execute_result"
    }
   ],
   "source": [
    "data_position_vector = backtest_vectorized(data,lookback_bars=LOOKBACK_BARS)\n",
    "data_position_vector.head(15)"
   ]
  },
  {
   "cell_type": "code",
   "execution_count": 102,
   "metadata": {
    "collapsed": false
   },
   "outputs": [
    {
     "data": {
      "text/plain": [
       "<matplotlib.axes._subplots.AxesSubplot at 0xce62f98>"
      ]
     },
     "execution_count": 102,
     "metadata": {},
     "output_type": "execute_result"
    },
    {
     "data": {
      "image/png": "[encoded data removed]",
      "text/plain": [
       "<matplotlib.figure.Figure at 0xe7c9908>"
      ]
     },
     "metadata": {},
     "output_type": "display_data"
    }
   ],
   "source": [
    "data_backtest_vectorized = getBacktestResults(data_position_vector)\n",
    "\n",
    "data_backtest_vectorized[['equity','buy_and_hold']].plot()"
   ]
  },
  {
   "cell_type": "code",
   "execution_count": 105,
   "metadata": {
    "collapsed": false
   },
   "outputs": [
    {
     "name": "stdout",
     "output_type": "stream",
     "text": [
      "Final Equity at 2018-02-16 00:00:00 is -8.032\n"
     ]
    }
   ],
   "source": [
    "print 'Final Equity at %s is %.3f'%(data_backtest_vectorized.index[-2],data_backtest_vectorized['equity'][-2])"
   ]
  },
  {
   "cell_type": "code",
   "execution_count": 97,
   "metadata": {
    "collapsed": true
   },
   "outputs": [],
   "source": [
    "\n"
   ]
  }
 ],
 "metadata": {
  "anaconda-cloud": {},
  "kernelspec": {
   "display_name": "Python [default]",
   "language": "python",
   "name": "python2"
  },
  "language_info": {
   "codemirror_mode": {
    "name": "ipython",
    "version": 2
   },
   "file_extension": ".py",
   "mimetype": "text/x-python",
   "name": "python",
   "nbconvert_exporter": "python",
   "pygments_lexer": "ipython2",
   "version": "2.7.12"
  }
 },
 "nbformat": 4,
 "nbformat_minor": 0
}
