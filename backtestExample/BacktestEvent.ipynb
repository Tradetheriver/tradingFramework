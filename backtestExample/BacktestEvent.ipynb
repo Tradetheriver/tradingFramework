{
 "cells": [
  {
   "cell_type": "markdown",
   "metadata": {},
   "source": [
    "# BACKTEST EventDriven"
   ]
  },
  {
   "cell_type": "code",
   "execution_count": 1,
   "metadata": {
    "collapsed": true
   },
   "outputs": [],
   "source": [
    "%matplotlib inline  \n",
    "import pandas as pd\n",
    "import numpy as np\n",
    "import matplotlib.pyplot as plt \n",
    "from data_source.alpha_vantage_download import AlphaVantageDownload as Downloader# out custom function to download data\n",
    "import tpot # for machine learning pipeline\n",
    "import datetime\n",
    "from data_source.resolution import Resolution\n",
    "import os\n",
    "import sklearn"
   ]
  },
  {
   "cell_type": "markdown",
   "metadata": {},
   "source": [
    "### Configure Backtest"
   ]
  },
  {
   "cell_type": "code",
   "execution_count": 2,
   "metadata": {
    "collapsed": true
   },
   "outputs": [],
   "source": [
    "SYMBOL = 'BBVA.MC'\n",
    "START_BACKTEST = datetime.datetime(2017, 1, 1)\n",
    "RESOLUTION = Resolution.one_day\n",
    "CAPITAL=1000\n",
    "LOOKBACK_BARS=5\n",
    "OPEN_TO_CLOSE = False\n",
    "CHEAT_TRAIN=True"
   ]
  },
  {
   "cell_type": "markdown",
   "metadata": {},
   "source": [
    "### Download Data"
   ]
  },
  {
   "cell_type": "code",
   "execution_count": 3,
   "metadata": {
    "collapsed": false
   },
   "outputs": [],
   "source": [
    "startSTR = datetime.datetime.strftime(START_BACKTEST,'%Y%m%d')\n",
    "tempFile = '%s_%s_%s.csv'%(SYMBOL,startSTR,RESOLUTION)\n",
    "if not os.path.exists(tempFile):\n",
    "    data = Downloader().download(symbol='BBVA.MC',start=datetime.datetime(2017, 1, 1),resolution=Resolution.one_day)\n",
    "    data.to_csv(tempFile)\n",
    "else:\n",
    "    data = pd.DataFrame.from_csv(tempFile)"
   ]
  },
  {
   "cell_type": "code",
   "execution_count": 4,
   "metadata": {
    "collapsed": false
   },
   "outputs": [
    {
     "data": {
      "text/html": [
       "<div>\n",
       "<table border=\"1\" class=\"dataframe\">\n",
       "  <thead>\n",
       "    <tr style=\"text-align: right;\">\n",
       "      <th></th>\n",
       "      <th>symbol</th>\n",
       "      <th>open</th>\n",
       "      <th>high</th>\n",
       "      <th>low</th>\n",
       "      <th>close</th>\n",
       "      <th>volume</th>\n",
       "    </tr>\n",
       "    <tr>\n",
       "      <th>index</th>\n",
       "      <th></th>\n",
       "      <th></th>\n",
       "      <th></th>\n",
       "      <th></th>\n",
       "      <th></th>\n",
       "      <th></th>\n",
       "    </tr>\n",
       "  </thead>\n",
       "  <tbody>\n",
       "    <tr>\n",
       "      <th>2017-01-02</th>\n",
       "      <td>BBVA.MC</td>\n",
       "      <td>6.459</td>\n",
       "      <td>6.474</td>\n",
       "      <td>6.374</td>\n",
       "      <td>6.0952</td>\n",
       "      <td>19607737.0</td>\n",
       "    </tr>\n",
       "    <tr>\n",
       "      <th>2017-01-03</th>\n",
       "      <td>BBVA.MC</td>\n",
       "      <td>6.480</td>\n",
       "      <td>6.686</td>\n",
       "      <td>6.452</td>\n",
       "      <td>6.2135</td>\n",
       "      <td>160332414.0</td>\n",
       "    </tr>\n",
       "    <tr>\n",
       "      <th>2017-01-04</th>\n",
       "      <td>BBVA.MC</td>\n",
       "      <td>6.585</td>\n",
       "      <td>6.601</td>\n",
       "      <td>6.434</td>\n",
       "      <td>6.1472</td>\n",
       "      <td>179333129.0</td>\n",
       "    </tr>\n",
       "    <tr>\n",
       "      <th>2017-01-05</th>\n",
       "      <td>BBVA.MC</td>\n",
       "      <td>6.463</td>\n",
       "      <td>6.554</td>\n",
       "      <td>6.437</td>\n",
       "      <td>6.1690</td>\n",
       "      <td>144550880.0</td>\n",
       "    </tr>\n",
       "    <tr>\n",
       "      <th>2017-01-06</th>\n",
       "      <td>BBVA.MC</td>\n",
       "      <td>6.530</td>\n",
       "      <td>6.578</td>\n",
       "      <td>6.454</td>\n",
       "      <td>6.2144</td>\n",
       "      <td>113930823.0</td>\n",
       "    </tr>\n",
       "  </tbody>\n",
       "</table>\n",
       "</div>"
      ],
      "text/plain": [
       "             symbol   open   high    low   close       volume\n",
       "index                                                        \n",
       "2017-01-02  BBVA.MC  6.459  6.474  6.374  6.0952   19607737.0\n",
       "2017-01-03  BBVA.MC  6.480  6.686  6.452  6.2135  160332414.0\n",
       "2017-01-04  BBVA.MC  6.585  6.601  6.434  6.1472  179333129.0\n",
       "2017-01-05  BBVA.MC  6.463  6.554  6.437  6.1690  144550880.0\n",
       "2017-01-06  BBVA.MC  6.530  6.578  6.454  6.2144  113930823.0"
      ]
     },
     "execution_count": 4,
     "metadata": {},
     "output_type": "execute_result"
    }
   ],
   "source": [
    "data.head()"
   ]
  },
  {
   "cell_type": "code",
   "execution_count": 5,
   "metadata": {
    "collapsed": false
   },
   "outputs": [
    {
     "data": {
      "text/plain": [
       "<matplotlib.axes._subplots.AxesSubplot at 0x1f1bac50>"
      ]
     },
     "execution_count": 5,
     "metadata": {},
     "output_type": "execute_result"
    },
    {
     "data": {
      "image/png": "[encoded data removed]",
      "text/plain": [
       "<matplotlib.figure.Figure at 0x1b47f908>"
      ]
     },
     "metadata": {},
     "output_type": "display_data"
    }
   ],
   "source": [
    "data['close'].plot()"
   ]
  },
  {
   "cell_type": "code",
   "execution_count": 6,
   "metadata": {
    "collapsed": false
   },
   "outputs": [
    {
     "name": "stdout",
     "output_type": "stream",
     "text": [
      "Going to buy 164 shares when predicted\n"
     ]
    }
   ],
   "source": [
    "shares = int(CAPITAL/data['close'][0])\n",
    "print('Going to buy %i shares when predicted'%shares)"
   ]
  },
  {
   "cell_type": "markdown",
   "metadata": {},
   "source": [
    "### Machine learning training"
   ]
  },
  {
   "cell_type": "code",
   "execution_count": 10,
   "metadata": {
    "collapsed": true
   },
   "outputs": [],
   "source": [
    "def getReturnOfTrade(dataframe):\n",
    "    data_position_result = dataframe.copy()\n",
    "    if OPEN_TO_CLOSE:\n",
    "        data_position_result['returns'] = (data_position_result['close']-data_position_result['open']).shift(-1)\n",
    "    else:\n",
    "        data_position_result['returns'] = (data_position_result['close'].diff()).shift(-2)\n",
    "    return pd.DataFrame(data_position_result['returns'])\n",
    "        \n",
    "\n",
    "## get input and target methods\n",
    "def getInputData(dataframe,lookback_bars=5):\n",
    "    output = pd.DataFrame(dataframe['close'])\n",
    "    for i in range(lookback_bars):\n",
    "        if i == 0:\n",
    "            output['close'] = np.log(dataframe['close'])\n",
    "            output['volume'] = dataframe['volume'].diff()\n",
    "        else:\n",
    "            output['diff_%i' % i] = dataframe['close'] - dataframe['close'].shift(i)\n",
    "\n",
    "    return output.fillna(0).as_matrix()\n",
    "\n",
    "def getTargetData(dataframe):\n",
    "    future_return = getReturnOfTrade(dataframe)   \n",
    "        \n",
    "    return (future_return > 0).fillna(0).astype(int).values.ravel()\n",
    "\n"
   ]
  },
  {
   "cell_type": "code",
   "execution_count": 11,
   "metadata": {
    "collapsed": false
   },
   "outputs": [
    {
     "name": "stdout",
     "output_type": "stream",
     "text": [
      "Tramposo!\n",
      "len train=290 len test=290\n"
     ]
    }
   ],
   "source": [
    "inputData = getInputData(data,LOOKBACK_BARS)\n",
    "targetData = getTargetData(data)\n",
    "\n",
    "\n",
    "if CHEAT_TRAIN:\n",
    "    print 'Tramposo!'\n",
    "    # haciendo trampas => train set = backtestSet\n",
    "    X_train=inputData\n",
    "    X_test =inputData\n",
    "    y_train=targetData\n",
    "    y_test = targetData\n",
    "    data_test=data\n",
    "    data_train=data\n",
    "else:\n",
    "    #sin hacer trampas => dividir set en training + backtest test\n",
    "    test_size=0.33\n",
    "    X_train, X_test, y_train, y_test = sklearn.model_selection.train_test_split(inputData, targetData, test_size=test_size, random_state=42)\n",
    "    data_train, data_test = sklearn.model_selection.train_test_split(data, test_size=test_size)\n",
    "\n",
    "print 'len train=%i len test=%i'%(len(data_train),len(data_test))"
   ]
  },
  {
   "cell_type": "code",
   "execution_count": 12,
   "metadata": {
    "collapsed": false
   },
   "outputs": [
    {
     "name": "stderr",
     "output_type": "stream",
     "text": []
    },
    {
     "name": "stdout",
     "output_type": "stream",
     "text": [
      "Generation 1 - Current best internal CV score: 0.569280301865\n"
     ]
    },
    {
     "name": "stderr",
     "output_type": "stream",
     "text": []
    },
    {
     "name": "stdout",
     "output_type": "stream",
     "text": [
      "Generation 2 - Current best internal CV score: 0.579625129451\n"
     ]
    },
    {
     "name": "stderr",
     "output_type": "stream",
     "text": []
    },
    {
     "name": "stdout",
     "output_type": "stream",
     "text": [
      "Generation 3 - Current best internal CV score: 0.593541275749\n"
     ]
    },
    {
     "name": "stderr",
     "output_type": "stream",
     "text": []
    },
    {
     "name": "stdout",
     "output_type": "stream",
     "text": [
      "Generation 4 - Current best internal CV score: 0.593541275749\n"
     ]
    },
    {
     "name": "stderr",
     "output_type": "stream",
     "text": []
    },
    {
     "name": "stdout",
     "output_type": "stream",
     "text": [
      "Generation 5 - Current best internal CV score: 0.593541275749\n"
     ]
    },
    {
     "name": "stderr",
     "output_type": "stream",
     "text": []
    },
    {
     "name": "stdout",
     "output_type": "stream",
     "text": [
      "\n",
      "Best pipeline: BernoulliNB(input_matrix, BernoulliNB__alpha=1.0, BernoulliNB__fit_prior=False)\n",
      "TrainScore: 0.600000\n",
      "TestScore: 0.600000 \n"
     ]
    }
   ],
   "source": [
    "#Using TPOT https://github.com/EpistasisLab/tpot\n",
    "# TPOT is a Python Automated Machine Learning tool that optimizes machine learning pipelines using genetic programming.\n",
    "from tpot import TPOTClassifier\n",
    "mlObject = TPOTClassifier(generations=5,population_size=50,verbosity=2,n_jobs=1)\n",
    "mlObject.fit(X_train,y_train)\n",
    "\n",
    "print('TrainScore: %f'%mlObject.score(X_train, y_train))\n",
    "print('TestScore: %f '%mlObject.score(X_test, y_test))\n"
   ]
  },
  {
   "cell_type": "code",
   "execution_count": 13,
   "metadata": {
    "collapsed": false
   },
   "outputs": [],
   "source": [
    "def backtest_eventDriven(data,shares,lookback_bars=5):\n",
    "    import time\n",
    "    start_time = time.clock()\n",
    "    #Iterates each day of data\n",
    "    output = data.copy()\n",
    "    output['prediction']=0\n",
    "    output['position']=0\n",
    "    last_position = 0\n",
    "    for index, row in data.iterrows():            \n",
    "        dataToday = pd.DataFrame(data[:index])\n",
    "        if len(dataToday)<lookback_bars:\n",
    "            continue\n",
    "        inputData = getInputData(dataToday)        \n",
    "        prediction = mlObject.predict(inputData)\n",
    "        last_prediction = prediction[-1]\n",
    "        output['prediction'][index]= last_prediction\n",
    "        output['position'][index]= last_prediction*shares\n",
    "        if last_prediction==1 and last_position==0:\n",
    "#             print 'BUY at %s'%index\n",
    "            last_position=1\n",
    "            open_previously=True\n",
    "            ## sendOrder()\n",
    "            \n",
    "        elif last_prediction==0 and last_position==1:\n",
    "#             print 'close BUY at %s'%index\n",
    "            last_position=0\n",
    "            ## closeTrade()\n",
    "        \n",
    "#         else:\n",
    "#             print 'dont do nothing at %s'%index\n",
    "            \n",
    "    \n",
    "    \n",
    "    end_time = time.clock()\n",
    "    print('backtest_eventDriven took %i seconds'%(end_time-start_time))\n",
    "    return output"
   ]
  },
  {
   "cell_type": "code",
   "execution_count": 14,
   "metadata": {
    "collapsed": false
   },
   "outputs": [],
   "source": [
    "def backtest_vectorized(data,shares,lookback_bars=5):\n",
    "    import time\n",
    "    start_time = time.clock()\n",
    "    #vectorized\n",
    "    output = data.copy()\n",
    "    output['prediction']=0\n",
    "    output['position']=0\n",
    "    last_position = 0    \n",
    "    inputData = getInputData(data)  \n",
    "    prediction = mlObject.predict(inputData)\n",
    "    output['prediction'] = prediction\n",
    "    output['prediction'][:lookback_bars-1]=0\n",
    "    output['position'] =  output['prediction']*shares\n",
    "    end_time = time.clock()\n",
    "    print('backtest_vectorized took %i seconds'%(end_time-start_time))\n",
    "    return output"
   ]
  },
  {
   "cell_type": "code",
   "execution_count": 15,
   "metadata": {
    "collapsed": true
   },
   "outputs": [],
   "source": [
    "def getBacktestResults(data_position,shares):\n",
    "    data_position_result = data_position.copy()\n",
    "    data_position_result['returns']  = getReturnOfTrade(data_position)\n",
    "\n",
    "    data_position_result['buy_and_hold'] = (data_position_result['close'].diff()*shares).cumsum()\n",
    "    data_position_result['pnl'] = data_position_result['returns']*data_position_result['position']\n",
    "    data_position_result['equity']=data_position_result['pnl'].cumsum()\n",
    "    data_position_result['equity'].fillna(method='ffill',inplace=True)\n",
    "    return data_position_result"
   ]
  },
  {
   "cell_type": "markdown",
   "metadata": {},
   "source": [
    "### Event Driven Backtest"
   ]
  },
  {
   "cell_type": "code",
   "execution_count": 16,
   "metadata": {
    "collapsed": false
   },
   "outputs": [
    {
     "name": "stderr",
     "output_type": "stream",
     "text": [
      "D:\\Anaconda2\\lib\\site-packages\\ipykernel\\__main__.py:16: SettingWithCopyWarning: \n",
      "A value is trying to be set on a copy of a slice from a DataFrame\n",
      "\n",
      "See the caveats in the documentation: http://pandas.pydata.org/pandas-docs/stable/indexing.html#indexing-view-versus-copy\n",
      "D:\\Anaconda2\\lib\\site-packages\\ipykernel\\__main__.py:17: SettingWithCopyWarning: \n",
      "A value is trying to be set on a copy of a slice from a DataFrame\n",
      "\n",
      "See the caveats in the documentation: http://pandas.pydata.org/pandas-docs/stable/indexing.html#indexing-view-versus-copy\n"
     ]
    },
    {
     "name": "stdout",
     "output_type": "stream",
     "text": [
      "backtest_eventDriven took 76 seconds\n"
     ]
    }
   ],
   "source": [
    "data_position_ed = backtest_eventDriven(data_test,shares=shares,lookback_bars=LOOKBACK_BARS)\n",
    "\n",
    "# data_position_ed.head(15)"
   ]
  },
  {
   "cell_type": "code",
   "execution_count": 17,
   "metadata": {
    "collapsed": false
   },
   "outputs": [
    {
     "data": {
      "text/plain": [
       "<matplotlib.axes._subplots.AxesSubplot at 0x22282b70>"
      ]
     },
     "execution_count": 17,
     "metadata": {},
     "output_type": "execute_result"
    },
    {
     "data": {
      "image/png": "[encoded data removed]",
      "text/plain": [
       "<matplotlib.figure.Figure at 0x1b5ebc88>"
      ]
     },
     "metadata": {},
     "output_type": "display_data"
    }
   ],
   "source": [
    "data_backtest_ed = getBacktestResults(data_position_ed,shares=shares)\n",
    "\n",
    "data_backtest_ed[['equity','buy_and_hold']].plot()"
   ]
  },
  {
   "cell_type": "code",
   "execution_count": 292,
   "metadata": {
    "collapsed": false
   },
   "outputs": [
    {
     "data": {
      "text/html": [
       "<div>\n",
       "<table border=\"1\" class=\"dataframe\">\n",
       "  <thead>\n",
       "    <tr style=\"text-align: right;\">\n",
       "      <th></th>\n",
       "      <th>symbol</th>\n",
       "      <th>open</th>\n",
       "      <th>high</th>\n",
       "      <th>low</th>\n",
       "      <th>close</th>\n",
       "      <th>volume</th>\n",
       "      <th>prediction</th>\n",
       "      <th>position</th>\n",
       "      <th>returns</th>\n",
       "      <th>buy_and_hold</th>\n",
       "      <th>pnl</th>\n",
       "      <th>equity</th>\n",
       "    </tr>\n",
       "    <tr>\n",
       "      <th>index</th>\n",
       "      <th></th>\n",
       "      <th></th>\n",
       "      <th></th>\n",
       "      <th></th>\n",
       "      <th></th>\n",
       "      <th></th>\n",
       "      <th></th>\n",
       "      <th></th>\n",
       "      <th></th>\n",
       "      <th></th>\n",
       "      <th></th>\n",
       "      <th></th>\n",
       "    </tr>\n",
       "  </thead>\n",
       "  <tbody>\n",
       "    <tr>\n",
       "      <th>2017-01-02</th>\n",
       "      <td>BBVA.MC</td>\n",
       "      <td>6.459</td>\n",
       "      <td>6.474</td>\n",
       "      <td>6.374</td>\n",
       "      <td>6.0952</td>\n",
       "      <td>19607737.0</td>\n",
       "      <td>0</td>\n",
       "      <td>0</td>\n",
       "      <td>-0.0663</td>\n",
       "      <td>NaN</td>\n",
       "      <td>-0.0000</td>\n",
       "      <td>-0.0000</td>\n",
       "    </tr>\n",
       "    <tr>\n",
       "      <th>2017-01-03</th>\n",
       "      <td>BBVA.MC</td>\n",
       "      <td>6.480</td>\n",
       "      <td>6.686</td>\n",
       "      <td>6.452</td>\n",
       "      <td>6.2135</td>\n",
       "      <td>160332414.0</td>\n",
       "      <td>0</td>\n",
       "      <td>0</td>\n",
       "      <td>0.0218</td>\n",
       "      <td>19.4012</td>\n",
       "      <td>0.0000</td>\n",
       "      <td>0.0000</td>\n",
       "    </tr>\n",
       "    <tr>\n",
       "      <th>2017-01-04</th>\n",
       "      <td>BBVA.MC</td>\n",
       "      <td>6.585</td>\n",
       "      <td>6.601</td>\n",
       "      <td>6.434</td>\n",
       "      <td>6.1472</td>\n",
       "      <td>179333129.0</td>\n",
       "      <td>0</td>\n",
       "      <td>0</td>\n",
       "      <td>0.0454</td>\n",
       "      <td>8.5280</td>\n",
       "      <td>0.0000</td>\n",
       "      <td>0.0000</td>\n",
       "    </tr>\n",
       "    <tr>\n",
       "      <th>2017-01-05</th>\n",
       "      <td>BBVA.MC</td>\n",
       "      <td>6.463</td>\n",
       "      <td>6.554</td>\n",
       "      <td>6.437</td>\n",
       "      <td>6.1690</td>\n",
       "      <td>144550880.0</td>\n",
       "      <td>0</td>\n",
       "      <td>0</td>\n",
       "      <td>0.0489</td>\n",
       "      <td>12.1032</td>\n",
       "      <td>0.0000</td>\n",
       "      <td>0.0000</td>\n",
       "    </tr>\n",
       "    <tr>\n",
       "      <th>2017-01-06</th>\n",
       "      <td>BBVA.MC</td>\n",
       "      <td>6.530</td>\n",
       "      <td>6.578</td>\n",
       "      <td>6.454</td>\n",
       "      <td>6.2144</td>\n",
       "      <td>113930823.0</td>\n",
       "      <td>0</td>\n",
       "      <td>0</td>\n",
       "      <td>-0.0970</td>\n",
       "      <td>19.5488</td>\n",
       "      <td>-0.0000</td>\n",
       "      <td>0.0000</td>\n",
       "    </tr>\n",
       "    <tr>\n",
       "      <th>2017-01-09</th>\n",
       "      <td>BBVA.MC</td>\n",
       "      <td>6.585</td>\n",
       "      <td>6.589</td>\n",
       "      <td>6.470</td>\n",
       "      <td>6.2633</td>\n",
       "      <td>33421900.0</td>\n",
       "      <td>0</td>\n",
       "      <td>0</td>\n",
       "      <td>-0.2018</td>\n",
       "      <td>27.5684</td>\n",
       "      <td>-0.0000</td>\n",
       "      <td>0.0000</td>\n",
       "    </tr>\n",
       "    <tr>\n",
       "      <th>2017-01-10</th>\n",
       "      <td>BBVA.MC</td>\n",
       "      <td>6.464</td>\n",
       "      <td>6.464</td>\n",
       "      <td>6.344</td>\n",
       "      <td>6.1663</td>\n",
       "      <td>98132610.0</td>\n",
       "      <td>1</td>\n",
       "      <td>164</td>\n",
       "      <td>-0.0300</td>\n",
       "      <td>11.6604</td>\n",
       "      <td>-4.9200</td>\n",
       "      <td>-4.9200</td>\n",
       "    </tr>\n",
       "    <tr>\n",
       "      <th>2017-01-11</th>\n",
       "      <td>BBVA.MC</td>\n",
       "      <td>6.330</td>\n",
       "      <td>6.330</td>\n",
       "      <td>6.121</td>\n",
       "      <td>5.9645</td>\n",
       "      <td>96047571.0</td>\n",
       "      <td>1</td>\n",
       "      <td>164</td>\n",
       "      <td>0.1144</td>\n",
       "      <td>-21.4348</td>\n",
       "      <td>18.7616</td>\n",
       "      <td>13.8416</td>\n",
       "    </tr>\n",
       "    <tr>\n",
       "      <th>2017-01-12</th>\n",
       "      <td>BBVA.MC</td>\n",
       "      <td>6.100</td>\n",
       "      <td>6.218</td>\n",
       "      <td>6.035</td>\n",
       "      <td>5.9345</td>\n",
       "      <td>31491231.0</td>\n",
       "      <td>1</td>\n",
       "      <td>164</td>\n",
       "      <td>-0.0931</td>\n",
       "      <td>-26.3548</td>\n",
       "      <td>-15.2684</td>\n",
       "      <td>-1.4268</td>\n",
       "    </tr>\n",
       "    <tr>\n",
       "      <th>2017-01-13</th>\n",
       "      <td>BBVA.MC</td>\n",
       "      <td>6.160</td>\n",
       "      <td>6.303</td>\n",
       "      <td>6.138</td>\n",
       "      <td>6.0489</td>\n",
       "      <td>86007013.0</td>\n",
       "      <td>1</td>\n",
       "      <td>164</td>\n",
       "      <td>-0.0107</td>\n",
       "      <td>-7.5932</td>\n",
       "      <td>-1.7548</td>\n",
       "      <td>-3.1816</td>\n",
       "    </tr>\n",
       "  </tbody>\n",
       "</table>\n",
       "</div>"
      ],
      "text/plain": [
       "             symbol   open   high    low   close       volume  prediction  \\\n",
       "index                                                                       \n",
       "2017-01-02  BBVA.MC  6.459  6.474  6.374  6.0952   19607737.0           0   \n",
       "2017-01-03  BBVA.MC  6.480  6.686  6.452  6.2135  160332414.0           0   \n",
       "2017-01-04  BBVA.MC  6.585  6.601  6.434  6.1472  179333129.0           0   \n",
       "2017-01-05  BBVA.MC  6.463  6.554  6.437  6.1690  144550880.0           0   \n",
       "2017-01-06  BBVA.MC  6.530  6.578  6.454  6.2144  113930823.0           0   \n",
       "2017-01-09  BBVA.MC  6.585  6.589  6.470  6.2633   33421900.0           0   \n",
       "2017-01-10  BBVA.MC  6.464  6.464  6.344  6.1663   98132610.0           1   \n",
       "2017-01-11  BBVA.MC  6.330  6.330  6.121  5.9645   96047571.0           1   \n",
       "2017-01-12  BBVA.MC  6.100  6.218  6.035  5.9345   31491231.0           1   \n",
       "2017-01-13  BBVA.MC  6.160  6.303  6.138  6.0489   86007013.0           1   \n",
       "\n",
       "            position  returns  buy_and_hold      pnl   equity  \n",
       "index                                                          \n",
       "2017-01-02         0  -0.0663           NaN  -0.0000  -0.0000  \n",
       "2017-01-03         0   0.0218       19.4012   0.0000   0.0000  \n",
       "2017-01-04         0   0.0454        8.5280   0.0000   0.0000  \n",
       "2017-01-05         0   0.0489       12.1032   0.0000   0.0000  \n",
       "2017-01-06         0  -0.0970       19.5488  -0.0000   0.0000  \n",
       "2017-01-09         0  -0.2018       27.5684  -0.0000   0.0000  \n",
       "2017-01-10       164  -0.0300       11.6604  -4.9200  -4.9200  \n",
       "2017-01-11       164   0.1144      -21.4348  18.7616  13.8416  \n",
       "2017-01-12       164  -0.0931      -26.3548 -15.2684  -1.4268  \n",
       "2017-01-13       164  -0.0107       -7.5932  -1.7548  -3.1816  "
      ]
     },
     "execution_count": 292,
     "metadata": {},
     "output_type": "execute_result"
    }
   ],
   "source": [
    "# data_backtest_ed.head(10)"
   ]
  },
  {
   "cell_type": "code",
   "execution_count": 18,
   "metadata": {
    "collapsed": false
   },
   "outputs": [
    {
     "name": "stdout",
     "output_type": "stream",
     "text": [
      "Final Equity at 2018-02-16 00:00:00 is 397.831  => 39.783 percent in backtest\n"
     ]
    }
   ],
   "source": [
    "print 'Final Equity at %s is %.3f  => %.3f percent in backtest'%(data_backtest_ed.index[-2],data_backtest_ed['equity'][-1],(data_backtest_ed['equity'][-1]/CAPITAL)*100 )"
   ]
  },
  {
   "cell_type": "markdown",
   "metadata": {},
   "source": [
    "### Vectorized Backtest"
   ]
  },
  {
   "cell_type": "code",
   "execution_count": 19,
   "metadata": {
    "collapsed": false
   },
   "outputs": [
    {
     "name": "stderr",
     "output_type": "stream",
     "text": [
      "D:\\Anaconda2\\lib\\site-packages\\ipykernel\\__main__.py:12: SettingWithCopyWarning: \n",
      "A value is trying to be set on a copy of a slice from a DataFrame\n",
      "\n",
      "See the caveats in the documentation: http://pandas.pydata.org/pandas-docs/stable/indexing.html#indexing-view-versus-copy\n"
     ]
    },
    {
     "name": "stdout",
     "output_type": "stream",
     "text": [
      "backtest_vectorized took 0 seconds\n"
     ]
    }
   ],
   "source": [
    "data_position_vector = backtest_vectorized(data_test,shares=shares,lookback_bars=LOOKBACK_BARS)\n",
    "# data_position_vector.head(5)"
   ]
  },
  {
   "cell_type": "code",
   "execution_count": 20,
   "metadata": {
    "collapsed": false
   },
   "outputs": [
    {
     "data": {
      "text/plain": [
       "<matplotlib.axes._subplots.AxesSubplot at 0x21a49ef0>"
      ]
     },
     "execution_count": 20,
     "metadata": {},
     "output_type": "execute_result"
    },
    {
     "data": {
      "image/png": "[encoded data removed]",
      "text/plain": [
       "<matplotlib.figure.Figure at 0x1f40ff60>"
      ]
     },
     "metadata": {},
     "output_type": "display_data"
    }
   ],
   "source": [
    "data_backtest_vectorized = getBacktestResults(data_position_vector,shares=shares)\n",
    "\n",
    "data_backtest_vectorized[['equity','buy_and_hold']].plot()"
   ]
  },
  {
   "cell_type": "code",
   "execution_count": 298,
   "metadata": {
    "collapsed": false
   },
   "outputs": [],
   "source": [
    "# data_backtest_vectorized.head(10)"
   ]
  },
  {
   "cell_type": "code",
   "execution_count": 21,
   "metadata": {
    "collapsed": false
   },
   "outputs": [
    {
     "name": "stdout",
     "output_type": "stream",
     "text": [
      "Final Equity at 2018-02-16 00:00:00 is 397.831  => 39.783 percent in backtest\n"
     ]
    }
   ],
   "source": [
    "print 'Final Equity at %s is %.3f  => %.3f percent in backtest'%(data_backtest_vectorized.index[-2],data_backtest_vectorized['equity'][-1],(data_backtest_vectorized['equity'][-1]/CAPITAL)*100 )"
   ]
  },
  {
   "cell_type": "code",
   "execution_count": 97,
   "metadata": {
    "collapsed": true
   },
   "outputs": [],
   "source": [
    "\n"
   ]
  }
 ],
 "metadata": {
  "anaconda-cloud": {},
  "kernelspec": {
   "display_name": "Python [default]",
   "language": "python",
   "name": "python2"
  },
  "language_info": {
   "codemirror_mode": {
    "name": "ipython",
    "version": 2
   },
   "file_extension": ".py",
   "mimetype": "text/x-python",
   "name": "python",
   "nbconvert_exporter": "python",
   "pygments_lexer": "ipython2",
   "version": "2.7.12"
  }
 },
 "nbformat": 4,
 "nbformat_minor": 0
}
